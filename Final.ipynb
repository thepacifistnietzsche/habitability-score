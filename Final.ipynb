{
  "nbformat": 4,
  "nbformat_minor": 0,
  "metadata": {
    "colab": {
      "name": "Final.ipynb",
      "provenance": [],
      "collapsed_sections": [],
      "authorship_tag": "ABX9TyP4+/4GRa28/Z2lN95q4nLP",
      "include_colab_link": true
    },
    "kernelspec": {
      "name": "python3",
      "display_name": "Python 3"
    },
    "language_info": {
      "name": "python"
    }
  },
  "cells": [
    {
      "cell_type": "markdown",
      "metadata": {
        "id": "view-in-github",
        "colab_type": "text"
      },
      "source": [
        "<a href=\"https://colab.research.google.com/github/thepacifistnietzsche/habitability-score/blob/main/Final.ipynb\" target=\"_parent\"><img src=\"https://colab.research.google.com/assets/colab-badge.svg\" alt=\"Open In Colab\"/></a>"
      ]
    },
    {
      "cell_type": "code",
      "execution_count": null,
      "metadata": {
        "id": "XSgqiHi-XWEh"
      },
      "outputs": [],
      "source": [
        "import numpy as np\n",
        "import pandas as pd\n",
        "import matplotlib.pyplot as plt\n",
        "import seaborn as sns\n",
        "import statsmodels.api as sm\n",
        "import datetime\n",
        "%matplotlib inline\n",
        "import warnings\n",
        "warnings.filterwarnings('ignore')\n",
        "import sklearn\n",
        "from sklearn.preprocessing import LabelEncoder, OneHotEncoder, StandardScaler"
      ]
    },
    {
      "cell_type": "code",
      "source": [
        "from google.colab import files\n",
        "upload = files.upload()"
      ],
      "metadata": {
        "colab": {
          "resources": {
            "http://localhost:8080/nbextensions/google.colab/files.js": {
              "data": "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",
              "ok": true,
              "headers": [
                [
                  "content-type",
                  "application/javascript"
                ]
              ],
              "status": 200,
              "status_text": ""
            }
          },
          "base_uri": "https://localhost:8080/",
          "height": 74
        },
        "id": "eRFURs_MxzWs",
        "outputId": "0aba0101-2c0b-4b81-9749-ce5dd25af6c7"
      },
      "execution_count": null,
      "outputs": [
        {
          "output_type": "display_data",
          "data": {
            "text/plain": [
              "<IPython.core.display.HTML object>"
            ],
            "text/html": [
              "\n",
              "     <input type=\"file\" id=\"files-addfb3d9-c783-4c61-b0a7-dbc68aa3017f\" name=\"files[]\" multiple disabled\n",
              "        style=\"border:none\" />\n",
              "     <output id=\"result-addfb3d9-c783-4c61-b0a7-dbc68aa3017f\">\n",
              "      Upload widget is only available when the cell has been executed in the\n",
              "      current browser session. Please rerun this cell to enable.\n",
              "      </output>\n",
              "      <script src=\"/nbextensions/google.colab/files.js\"></script> "
            ]
          },
          "metadata": {}
        },
        {
          "output_type": "stream",
          "name": "stdout",
          "text": [
            "Saving newdata.csv to newdata (2).csv\n"
          ]
        }
      ]
    },
    {
      "cell_type": "code",
      "source": [
        "from google.colab import files\n",
        "upload = files.upload()"
      ],
      "metadata": {
        "colab": {
          "resources": {
            "http://localhost:8080/nbextensions/google.colab/files.js": {
              "data": "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",
              "ok": true,
              "headers": [
                [
                  "content-type",
                  "application/javascript"
                ]
              ],
              "status": 200,
              "status_text": ""
            }
          },
          "base_uri": "https://localhost:8080/",
          "height": 74
        },
        "id": "Zhkliw8QOIqk",
        "outputId": "eff3e38d-9ad1-4b1b-a553-892ce0bf02a0"
      },
      "execution_count": null,
      "outputs": [
        {
          "output_type": "display_data",
          "data": {
            "text/plain": [
              "<IPython.core.display.HTML object>"
            ],
            "text/html": [
              "\n",
              "     <input type=\"file\" id=\"files-e3b07db2-e53b-46ab-8f52-121de96893b3\" name=\"files[]\" multiple disabled\n",
              "        style=\"border:none\" />\n",
              "     <output id=\"result-e3b07db2-e53b-46ab-8f52-121de96893b3\">\n",
              "      Upload widget is only available when the cell has been executed in the\n",
              "      current browser session. Please rerun this cell to enable.\n",
              "      </output>\n",
              "      <script src=\"/nbextensions/google.colab/files.js\"></script> "
            ]
          },
          "metadata": {}
        },
        {
          "output_type": "stream",
          "name": "stdout",
          "text": [
            "Saving test.csv to test.csv\n"
          ]
        }
      ]
    },
    {
      "cell_type": "code",
      "source": [
        "data = pd.read_csv(\"newdata (2).csv\")\n",
        "print(data.shape)\n",
        "tdata = pd.read_csv(\"test.csv\")\n",
        "print(tdata.shape)"
      ],
      "metadata": {
        "colab": {
          "base_uri": "https://localhost:8080/"
        },
        "id": "ugoA876dx9x4",
        "outputId": "df84ba14-b149-4a08-ba34-a9c949f07224"
      },
      "execution_count": null,
      "outputs": [
        {
          "output_type": "stream",
          "name": "stdout",
          "text": [
            "(33772, 16)\n",
            "(10500, 14)\n"
          ]
        }
      ]
    },
    {
      "cell_type": "code",
      "source": [
        "tdata.shape"
      ],
      "metadata": {
        "colab": {
          "base_uri": "https://localhost:8080/"
        },
        "id": "53zVEP0ZmPEP",
        "outputId": "6cac58a9-1fa0-4ecc-a74b-a627ca854d48"
      },
      "execution_count": null,
      "outputs": [
        {
          "output_type": "execute_result",
          "data": {
            "text/plain": [
              "(10500, 14)"
            ]
          },
          "metadata": {},
          "execution_count": 388
        }
      ]
    },
    {
      "cell_type": "code",
      "source": [
        "data = data.dropna()\n",
        "\n",
        "\n",
        "\n",
        "print(data)"
      ],
      "metadata": {
        "colab": {
          "base_uri": "https://localhost:8080/"
        },
        "id": "aN8PerVRy2os",
        "outputId": "736d4221-8137-4fee-8491-0d8af5d77702"
      },
      "execution_count": null,
      "outputs": [
        {
          "output_type": "stream",
          "name": "stdout",
          "text": [
            "      Property_ID       Property_Type  Property_Area  Number_of_Windows  \\\n",
            "0          0x8cb4  Single-family home           1229                  2   \n",
            "1          0x9721            Bungalow           3780                  6   \n",
            "2          0xa013           Apartment            445                  1   \n",
            "3          0x5f41            Bungalow           3317                 10   \n",
            "4          0x4bc2            Bungalow           4014                 12   \n",
            "...           ...                 ...            ...                ...   \n",
            "33767      0xbe4e  Single-family home           1185                  3   \n",
            "33768      0x9409            Bungalow           2238                 14   \n",
            "33769      0x7a57           Apartment            900                  3   \n",
            "33770      0x7d81           Apartment            737                  4   \n",
            "33771      0x68d4           Apartment            733                  2   \n",
            "\n",
            "       Number_of_Doors       Furnishing  Frequency_of_Powercuts Power_Backup  \\\n",
            "0                    4  Fully Furnished                       0           No   \n",
            "1                    6      Unfurnished                       0          Yes   \n",
            "2                    3  Fully Furnished                       1           No   \n",
            "3                    4  Fully Furnished                       2           No   \n",
            "4                    6   Semi_Furnished                       0          Yes   \n",
            "...                ...              ...                     ...          ...   \n",
            "33767                3      Unfurnished                       0           No   \n",
            "33768                6  Fully Furnished                       0           No   \n",
            "33769                2      Unfurnished                       2          Yes   \n",
            "33770                2  Fully Furnished                       0           No   \n",
            "33771                2      Unfurnished                       1           No   \n",
            "\n",
            "                  Water_Supply  Traffic_Density_Score              Crime_Rate  \\\n",
            "0                     All time                   8.29      Well below average   \n",
            "1             Once in two days                   6.84      Well below average   \n",
            "2                     All time                   5.70  Slightly above average   \n",
            "3                     All time                   4.05  Slightly above average   \n",
            "4                     All time                   7.50      Well below average   \n",
            "...                        ...                    ...                     ...   \n",
            "33767  Once in a day - Morning                   5.69      Well below average   \n",
            "33768                 All time                   5.46      Well below average   \n",
            "33769  Once in a day - Morning                   6.16      Well above average   \n",
            "33770  Once in a day - Morning                   7.45  Slightly below average   \n",
            "33771  Once in a day - Evening                   4.37      Well below average   \n",
            "\n",
            "      Dust_and_Noise  Air_Quality_Index  Neighborhood_Review  \\\n",
            "0               High                132                 4.67   \n",
            "1             Medium                137                 3.80   \n",
            "2             Medium                 86                 2.93   \n",
            "3             Medium                101                 2.29   \n",
            "4             Medium                 80                 4.81   \n",
            "...              ...                ...                  ...   \n",
            "33767         Medium                 91                 4.49   \n",
            "33768         Medium                116                 4.77   \n",
            "33769         Medium                100                 1.34   \n",
            "33770         Medium                121                 3.81   \n",
            "33771         Medium                 96                 3.55   \n",
            "\n",
            "       Habitability_score  Crime_Rate_equivalent  \n",
            "0                   83.25                      1  \n",
            "1                   81.44                      1  \n",
            "2                   79.91                      1  \n",
            "3                   78.75                      1  \n",
            "4                   86.55                      1  \n",
            "...                   ...                    ...  \n",
            "33767               82.94                      1  \n",
            "33768               93.70                      1  \n",
            "33769               31.46                      1  \n",
            "33770               71.39                      1  \n",
            "33771               71.20                      1  \n",
            "\n",
            "[33772 rows x 16 columns]\n"
          ]
        }
      ]
    },
    {
      "cell_type": "code",
      "source": [
        "total = tdata.isnull().sum().sort_values(ascending=False)\n",
        "percent = (tdata.isnull().sum()/tdata.isnull().count()).sort_values(ascending=False)\n",
        "missing_tdata = pd.concat([total,percent], axis=1,keys=['Total','Percent'])\n",
        "missing_tdata.head(11)"
      ],
      "metadata": {
        "colab": {
          "base_uri": "https://localhost:8080/",
          "height": 394
        },
        "id": "sNqhN-3RIAqy",
        "outputId": "fdfd3aee-349e-4e68-cd34-ae31cb67e75e"
      },
      "execution_count": null,
      "outputs": [
        {
          "output_type": "execute_result",
          "data": {
            "text/plain": [
              "                        Total   Percent\n",
              "Number_of_Windows         445  0.042381\n",
              "Frequency_of_Powercuts    366  0.034857\n",
              "Dust_and_Noise            330  0.031429\n",
              "Furnishing                257  0.024476\n",
              "Crime_Rate                212  0.020190\n",
              "Property_ID                 0  0.000000\n",
              "Property_Type               0  0.000000\n",
              "Property_Area               0  0.000000\n",
              "Number_of_Doors             0  0.000000\n",
              "Power_Backup                0  0.000000\n",
              "Water_Supply                0  0.000000"
            ],
            "text/html": [
              "\n",
              "  <div id=\"df-bc4ce016-11b3-4ec8-bebe-ffb86010ba19\">\n",
              "    <div class=\"colab-df-container\">\n",
              "      <div>\n",
              "<style scoped>\n",
              "    .dataframe tbody tr th:only-of-type {\n",
              "        vertical-align: middle;\n",
              "    }\n",
              "\n",
              "    .dataframe tbody tr th {\n",
              "        vertical-align: top;\n",
              "    }\n",
              "\n",
              "    .dataframe thead th {\n",
              "        text-align: right;\n",
              "    }\n",
              "</style>\n",
              "<table border=\"1\" class=\"dataframe\">\n",
              "  <thead>\n",
              "    <tr style=\"text-align: right;\">\n",
              "      <th></th>\n",
              "      <th>Total</th>\n",
              "      <th>Percent</th>\n",
              "    </tr>\n",
              "  </thead>\n",
              "  <tbody>\n",
              "    <tr>\n",
              "      <th>Number_of_Windows</th>\n",
              "      <td>445</td>\n",
              "      <td>0.042381</td>\n",
              "    </tr>\n",
              "    <tr>\n",
              "      <th>Frequency_of_Powercuts</th>\n",
              "      <td>366</td>\n",
              "      <td>0.034857</td>\n",
              "    </tr>\n",
              "    <tr>\n",
              "      <th>Dust_and_Noise</th>\n",
              "      <td>330</td>\n",
              "      <td>0.031429</td>\n",
              "    </tr>\n",
              "    <tr>\n",
              "      <th>Furnishing</th>\n",
              "      <td>257</td>\n",
              "      <td>0.024476</td>\n",
              "    </tr>\n",
              "    <tr>\n",
              "      <th>Crime_Rate</th>\n",
              "      <td>212</td>\n",
              "      <td>0.020190</td>\n",
              "    </tr>\n",
              "    <tr>\n",
              "      <th>Property_ID</th>\n",
              "      <td>0</td>\n",
              "      <td>0.000000</td>\n",
              "    </tr>\n",
              "    <tr>\n",
              "      <th>Property_Type</th>\n",
              "      <td>0</td>\n",
              "      <td>0.000000</td>\n",
              "    </tr>\n",
              "    <tr>\n",
              "      <th>Property_Area</th>\n",
              "      <td>0</td>\n",
              "      <td>0.000000</td>\n",
              "    </tr>\n",
              "    <tr>\n",
              "      <th>Number_of_Doors</th>\n",
              "      <td>0</td>\n",
              "      <td>0.000000</td>\n",
              "    </tr>\n",
              "    <tr>\n",
              "      <th>Power_Backup</th>\n",
              "      <td>0</td>\n",
              "      <td>0.000000</td>\n",
              "    </tr>\n",
              "    <tr>\n",
              "      <th>Water_Supply</th>\n",
              "      <td>0</td>\n",
              "      <td>0.000000</td>\n",
              "    </tr>\n",
              "  </tbody>\n",
              "</table>\n",
              "</div>\n",
              "      <button class=\"colab-df-convert\" onclick=\"convertToInteractive('df-bc4ce016-11b3-4ec8-bebe-ffb86010ba19')\"\n",
              "              title=\"Convert this dataframe to an interactive table.\"\n",
              "              style=\"display:none;\">\n",
              "        \n",
              "  <svg xmlns=\"http://www.w3.org/2000/svg\" height=\"24px\"viewBox=\"0 0 24 24\"\n",
              "       width=\"24px\">\n",
              "    <path d=\"M0 0h24v24H0V0z\" fill=\"none\"/>\n",
              "    <path d=\"M18.56 5.44l.94 2.06.94-2.06 2.06-.94-2.06-.94-.94-2.06-.94 2.06-2.06.94zm-11 1L8.5 8.5l.94-2.06 2.06-.94-2.06-.94L8.5 2.5l-.94 2.06-2.06.94zm10 10l.94 2.06.94-2.06 2.06-.94-2.06-.94-.94-2.06-.94 2.06-2.06.94z\"/><path d=\"M17.41 7.96l-1.37-1.37c-.4-.4-.92-.59-1.43-.59-.52 0-1.04.2-1.43.59L10.3 9.45l-7.72 7.72c-.78.78-.78 2.05 0 2.83L4 21.41c.39.39.9.59 1.41.59.51 0 1.02-.2 1.41-.59l7.78-7.78 2.81-2.81c.8-.78.8-2.07 0-2.86zM5.41 20L4 18.59l7.72-7.72 1.47 1.35L5.41 20z\"/>\n",
              "  </svg>\n",
              "      </button>\n",
              "      \n",
              "  <style>\n",
              "    .colab-df-container {\n",
              "      display:flex;\n",
              "      flex-wrap:wrap;\n",
              "      gap: 12px;\n",
              "    }\n",
              "\n",
              "    .colab-df-convert {\n",
              "      background-color: #E8F0FE;\n",
              "      border: none;\n",
              "      border-radius: 50%;\n",
              "      cursor: pointer;\n",
              "      display: none;\n",
              "      fill: #1967D2;\n",
              "      height: 32px;\n",
              "      padding: 0 0 0 0;\n",
              "      width: 32px;\n",
              "    }\n",
              "\n",
              "    .colab-df-convert:hover {\n",
              "      background-color: #E2EBFA;\n",
              "      box-shadow: 0px 1px 2px rgba(60, 64, 67, 0.3), 0px 1px 3px 1px rgba(60, 64, 67, 0.15);\n",
              "      fill: #174EA6;\n",
              "    }\n",
              "\n",
              "    [theme=dark] .colab-df-convert {\n",
              "      background-color: #3B4455;\n",
              "      fill: #D2E3FC;\n",
              "    }\n",
              "\n",
              "    [theme=dark] .colab-df-convert:hover {\n",
              "      background-color: #434B5C;\n",
              "      box-shadow: 0px 1px 3px 1px rgba(0, 0, 0, 0.15);\n",
              "      filter: drop-shadow(0px 1px 2px rgba(0, 0, 0, 0.3));\n",
              "      fill: #FFFFFF;\n",
              "    }\n",
              "  </style>\n",
              "\n",
              "      <script>\n",
              "        const buttonEl =\n",
              "          document.querySelector('#df-bc4ce016-11b3-4ec8-bebe-ffb86010ba19 button.colab-df-convert');\n",
              "        buttonEl.style.display =\n",
              "          google.colab.kernel.accessAllowed ? 'block' : 'none';\n",
              "\n",
              "        async function convertToInteractive(key) {\n",
              "          const element = document.querySelector('#df-bc4ce016-11b3-4ec8-bebe-ffb86010ba19');\n",
              "          const dataTable =\n",
              "            await google.colab.kernel.invokeFunction('convertToInteractive',\n",
              "                                                     [key], {});\n",
              "          if (!dataTable) return;\n",
              "\n",
              "          const docLinkHtml = 'Like what you see? Visit the ' +\n",
              "            '<a target=\"_blank\" href=https://colab.research.google.com/notebooks/data_table.ipynb>data table notebook</a>'\n",
              "            + ' to learn more about interactive tables.';\n",
              "          element.innerHTML = '';\n",
              "          dataTable['output_type'] = 'display_data';\n",
              "          await google.colab.output.renderOutput(dataTable, element);\n",
              "          const docLink = document.createElement('div');\n",
              "          docLink.innerHTML = docLinkHtml;\n",
              "          element.appendChild(docLink);\n",
              "        }\n",
              "      </script>\n",
              "    </div>\n",
              "  </div>\n",
              "  "
            ]
          },
          "metadata": {},
          "execution_count": 390
        }
      ]
    },
    {
      "cell_type": "code",
      "source": [
        "#data['Number_of_Windows'] = data['Number_of_Windows'].fillna(data['Number_of_Windows'].median())\n",
        "#data['Frequency_of_Powercuts']=data['Frequency_of_Powercuts'].fillna(data['Frequency_of_Powercuts'].median())\n",
        "#data['Crime_Rate']=data['Crime_Rate'].fillna('Unspecified')\n",
        "#data['Dust_and_Noise']=data['Dust_and_Noise'].fillna('Unspecified')\n",
        "#data['Furnishing']=data['Furnishing'].fillna('NA')"
      ],
      "metadata": {
        "id": "oSDKDsg04hWz"
      },
      "execution_count": null,
      "outputs": []
    },
    {
      "cell_type": "code",
      "source": [
        "tdata['Number_of_Windows'] = tdata['Number_of_Windows'].fillna(tdata['Number_of_Windows'].median())\n",
        "tdata['Frequency_of_Powercuts']=tdata['Frequency_of_Powercuts'].fillna(tdata['Frequency_of_Powercuts'].median())\n",
        "tdata['Crime_Rate']=tdata['Crime_Rate'].fillna('Unspecified')\n",
        "tdata['Dust_and_Noise']=tdata['Dust_and_Noise'].fillna('Unspecified')\n",
        "tdata['Furnishing']=tdata['Furnishing'].fillna('NA')"
      ],
      "metadata": {
        "id": "QoiHmxrfE__f"
      },
      "execution_count": null,
      "outputs": []
    },
    {
      "cell_type": "code",
      "source": [
        "data['Crime_Rate_equivalent']= 1\n",
        "for i in range (0,33772):\n",
        "  \n",
        "  if (data['Crime_Rate'][i]) == \"Well above average\":\n",
        "   \n",
        "    data['Crime_Rate_equivalent'][i]= 10\n",
        "  if (data['Crime_Rate'][i]) == \"Slightly above average\":\n",
        "    \n",
        "    data['Crime_Rate_equivalent'][i]= 20\n",
        "  if (data['Crime_Rate'][i]) == \"Slightly below average\":\n",
        "    \n",
        "    data['Crime_Rate_equivalent'][i]= 40\n",
        "  if (data['Crime_Rate'][i]) == \"Well below average\":\n",
        "    \n",
        "    data['Crime_Rate_equivalent'][i]= 50\n",
        "  #if (data['Crime_Rate'][i]) == \"Unspecified\":\n",
        "    \n",
        "   # (data['Crime_Rate_equivalent'][i])= 30\n"
      ],
      "metadata": {
        "id": "qb_bfNF5l_0A"
      },
      "execution_count": null,
      "outputs": []
    },
    {
      "cell_type": "code",
      "source": [
        "tdata['Crime_Rate_equivalent']= 1\n",
        "for i in range (0,10500):\n",
        "  \n",
        "  if (tdata['Crime_Rate'][i]) == \"Well above average\":\n",
        "   \n",
        "    tdata['Crime_Rate_equivalent'][i]= 10\n",
        "  if (tdata['Crime_Rate'][i]) == \"Slightly above average\":\n",
        "    \n",
        "    tdata['Crime_Rate_equivalent'][i]= 20\n",
        "  if (tdata['Crime_Rate'][i]) == \"Slightly below average\":\n",
        "    \n",
        "    tdata['Crime_Rate_equivalent'][i]= 40\n",
        "  if (tdata['Crime_Rate'][i]) == \"Well below average\":\n",
        "    \n",
        "    tdata['Crime_Rate_equivalent'][i]= 50\n",
        "  #if (data['Crime_Rate'][i]) == \"Unspecified\":\n",
        "   #    (data['Crime_Rate_equivalent'][i])= 30"
      ],
      "metadata": {
        "id": "Io7ELWDJFRl6"
      },
      "execution_count": null,
      "outputs": []
    },
    {
      "cell_type": "code",
      "source": [
        "data['Dust_and_Noise_equivalent']= 1\n",
        "for i in range (0,33772):\n",
        "  \n",
        "  if (data['Dust_and_Noise'][i]) == \"High\":\n",
        "   \n",
        "    data['Dust_and_Noise_equivalent'][i]= 30\n",
        "  if (data['Dust_and_Noise'][i]) == \"Medium\":\n",
        "    \n",
        "    data['Dust_and_Noise_equivalent'][i]= 20\n",
        "  if (data['Dust_and_Noise'][i]) == \"Low\":\n",
        "    \n",
        "    data['Dust_and_Noise_equivalent'][i]= 10\n",
        "  if (data['Dust_and_Noise'][i]) == \"Unspecified\":\n",
        "    \n",
        "    data['Dust_and_Noise_equivalent'][i]= 15\n",
        "\n"
      ],
      "metadata": {
        "id": "d0l0kGMimvuY"
      },
      "execution_count": null,
      "outputs": []
    },
    {
      "cell_type": "code",
      "source": [
        "tdata['Dust_and_Noise_equivalent']= 1\n",
        "for i in range (0,10500):\n",
        "  \n",
        "  if (tdata['Dust_and_Noise'][i]) == \"High\":\n",
        "   \n",
        "    tdata['Dust_and_Noise_equivalent'][i]= 30\n",
        "  if (tdata['Dust_and_Noise'][i]) == \"Medium\":\n",
        "    \n",
        "    tdata['Dust_and_Noise_equivalent'][i]= 20\n",
        "  if (tdata['Dust_and_Noise'][i]) == \"Low\":\n",
        "    \n",
        "    tdata['Dust_and_Noise_equivalent'][i]= 10\n",
        "  if (tdata['Dust_and_Noise'][i]) == \"Unspecified\":\n",
        "    \n",
        "    tdata['Dust_and_Noise_equivalent'][i]= 15"
      ],
      "metadata": {
        "id": "fXVwAtYLFved"
      },
      "execution_count": null,
      "outputs": []
    },
    {
      "cell_type": "code",
      "source": [
        "data['Water_Supply_equivalent']= 1\n",
        "for i in range (0,33772):\n",
        "  \n",
        "  if (data['Water_Supply'][i]) == \"Once in two days\":\n",
        "   \n",
        "    data['Water_Supply_equivalent'][i]= 3\n",
        "  if (data['Water_Supply'][i]) == \"NOT MENTIONED\":\n",
        "   \n",
        "    data['Water_Supply_equivalent'][i]= 2\n",
        "  if (data['Water_Supply'][i]) == \"Once in a day - Morning\":\n",
        "    \n",
        "    data['Water_Supply_equivalent'][i]= 2\n",
        "  if (data['Water_Supply'][i]) == \"Once in a day - Evening\":\n",
        "    \n",
        "    data['Water_Supply_equivalent'][i]= 2\n",
        "  if (data['Water_Supply'][i]) == \"All time\":\n",
        "    \n",
        "    data['Water_Supply_equivalent'][i]= 1\n"
      ],
      "metadata": {
        "id": "6coQgnjtoqah"
      },
      "execution_count": null,
      "outputs": []
    },
    {
      "cell_type": "code",
      "source": [
        "tdata['Water_Supply_equivalent']= 1\n",
        "for i in range (0,10500):\n",
        "  \n",
        "  if (tdata['Water_Supply'][i]) == \"Once in two days\":\n",
        "   \n",
        "    tdata['Water_Supply_equivalent'][i]= 3\n",
        "  if (tdata['Water_Supply'][i]) == \"NOT MENTIONED\":\n",
        "   \n",
        "    tdata['Water_Supply_equivalent'][i]= 2\n",
        "  if (tdata['Water_Supply'][i]) == \"Once in a day - Morning\":\n",
        "    \n",
        "    tdata['Water_Supply_equivalent'][i]= 2\n",
        "  if (tdata['Water_Supply'][i]) == \"Once in a day - Evening\":\n",
        "    \n",
        "    tdata['Water_Supply_equivalent'][i]= 2\n",
        "  if (tdata['Water_Supply'][i]) == \"All time\":\n",
        "    \n",
        "    tdata['Water_Supply_equivalent'][i]= 1"
      ],
      "metadata": {
        "id": "iIG8PoyTF8Sv"
      },
      "execution_count": null,
      "outputs": []
    },
    {
      "cell_type": "code",
      "source": [
        "  data['Furnishing_equivalent'] = 1\n",
        "  for i in range (0,33772):\n",
        "    \n",
        "    \n",
        "    if (data['Furnishing'][i]) == \"Unfurnished\":\n",
        "    \n",
        "      data['Furnishing_equivalent'][i]= 3\n",
        "    if (data['Furnishing'][i]) == \"NA\":\n",
        "      \n",
        "      data['Furnishing_equivalent'][i]= 2.5\n",
        "    if (data['Furnishing'][i]) == \"Semi_Furnished\":\n",
        "      \n",
        "      data['Furnishing_equivalent'][i]= 2\n",
        "    if (data['Furnishing'][i]) == \"Fully Furnished\":\n",
        "      \n",
        "      data['Furnishing_equivalent'][i]= 1"
      ],
      "metadata": {
        "id": "uEC9dlDhqQ-K"
      },
      "execution_count": null,
      "outputs": []
    },
    {
      "cell_type": "code",
      "source": [
        "  tdata['Furnishing_equivalent'] = 1\n",
        "  for i in range (0,10500):\n",
        "    \n",
        "    \n",
        "    if (tdata['Furnishing'][i]) == \"Unfurnished\":\n",
        "    \n",
        "      tdata['Furnishing_equivalent'][i]= 3\n",
        "    if (tdata['Furnishing'][i]) == \"NA\":\n",
        "      \n",
        "      tdata['Furnishing_equivalent'][i]= 2.5\n",
        "    if (tdata['Furnishing'][i]) == \"Semi_Furnished\":\n",
        "      \n",
        "      tdata['Furnishing_equivalent'][i]= 2\n",
        "    if (tdata['Furnishing'][i]) == \"Fully Furnished\":\n",
        "      \n",
        "      tdata['Furnishing_equivalent'][i]= 1"
      ],
      "metadata": {
        "id": "-AtbVcVqGLg3"
      },
      "execution_count": null,
      "outputs": []
    },
    {
      "cell_type": "code",
      "source": [
        "data['Property_Type_equivalent']= 1\n",
        "for i in range (0,33772):\n",
        "  \n",
        "  \n",
        "  if (data['Property_Type'][i]) == \"Bungalow\":\n",
        "   \n",
        "    data['Property_Type_equivalent'][i]= 6\n",
        "  if (data['Property_Type'][i]) == \"Duplex\":\n",
        "    \n",
        "    data['Property_Type_equivalent'][i]= 5\n",
        "  if (data['Property_Type'][i]) == \"#R%$G&867\":\n",
        "    \n",
        "    data['Property_Type_equivalent'][i]= 3\n",
        "  if (data['Property_Type'][i]) == \"Single-family home\":\n",
        "    \n",
        "    data['Property_Type_equivalent'][i]= 4\n",
        "  if (data['Property_Type'][i]) == \"Apartment\":\n",
        "    \n",
        "    data['Property_Type_equivalent'][i]= 2\n",
        "  if (data['Property_Type'][i]) == \"Container Home\":\n",
        "    \n",
        "    data['Property_Type_equivalent'][i]= 1\n",
        "\n",
        "  "
      ],
      "metadata": {
        "id": "Mrho2XdLsh8Y"
      },
      "execution_count": null,
      "outputs": []
    },
    {
      "cell_type": "code",
      "source": [
        "tdata['Property_Type_equivalent']= 1\n",
        "for i in range (0,10500):\n",
        "  \n",
        "  \n",
        "  if (tdata['Property_Type'][i]) == \"Bungalow\":\n",
        "   \n",
        "    tdata['Property_Type_equivalent'][i]= 6\n",
        "  if (tdata['Property_Type'][i]) == \"Duplex\":\n",
        "    \n",
        "    tdata['Property_Type_equivalent'][i]= 5\n",
        "  if (tdata['Property_Type'][i]) == \"#R%$G&867\":\n",
        "    \n",
        "    tdata['Property_Type_equivalent'][i]= 3\n",
        "  if (tdata['Property_Type'][i]) == \"Single-family home\":\n",
        "    \n",
        "    tdata['Property_Type_equivalent'][i]= 4\n",
        "  if (tdata['Property_Type'][i]) == \"Apartment\":\n",
        "    \n",
        "    tdata['Property_Type_equivalent'][i]= 2\n",
        "  if (tdata['Property_Type'][i]) == \"Container Home\":\n",
        "    \n",
        "    tdata['Property_Type_equivalent'][i]= 1"
      ],
      "metadata": {
        "id": "mvVKh5ToGZJ_"
      },
      "execution_count": null,
      "outputs": []
    },
    {
      "cell_type": "code",
      "source": [
        "data['Power_Backup_equivalent']= 1\n",
        "for i in range (0,33772):\n",
        "  \n",
        "  \n",
        "  if (data['Power_Backup'][i]) == \"Yes\":\n",
        "   \n",
        "    data['Power_Backup_equivalent'][i]= 1\n",
        "  if (data['Power_Backup'][i]) == \"No\":\n",
        "    \n",
        "    data['Power_Backup_equivalent'][i]= 0\n",
        "  if (data['Power_Backup'][i]) == \"NOT MENTIONED\":\n",
        "    data['Power_Backup_equivalent'][i]= .5"
      ],
      "metadata": {
        "id": "EM9DIV6uptsF"
      },
      "execution_count": null,
      "outputs": []
    },
    {
      "cell_type": "code",
      "source": [
        "tdata['Power_Backup_equivalent']= 1\n",
        "for i in range (0,10500):\n",
        "  \n",
        "  \n",
        "  if (tdata['Power_Backup'][i]) == \"Yes\":\n",
        "   \n",
        "    tdata['Power_Backup_equivalent'][i]= 1\n",
        "  if (tdata['Power_Backup'][i]) == \"No\":\n",
        "    \n",
        "    tdata['Power_Backup_equivalent'][i]= 0\n",
        "  if (tdata['Power_Backup'][i]) == \"NOT MENTIONED\":\n",
        "    tdata['Power_Backup_equivalent'][i]= .5"
      ],
      "metadata": {
        "id": "tcc85HfeGn_V"
      },
      "execution_count": null,
      "outputs": []
    },
    {
      "cell_type": "code",
      "source": [
        "data = data.drop([\"Property_Type\", \"Furnishing\",\"Water_Supply\", \"Dust_and_Noise\",\"Crime_Rate\", \"Power_Backup\", \"Property_ID\",],axis=1)\n",
        "tdata = tdata.drop([\"Property_Type\", \"Furnishing\",\"Water_Supply\", \"Dust_and_Noise\",\"Crime_Rate\", \"Power_Backup\"],axis=1)\n",
        "\n"
      ],
      "metadata": {
        "id": "rvFPpCQLOq13"
      },
      "execution_count": null,
      "outputs": []
    },
    {
      "cell_type": "code",
      "source": [
        "corrmat = data.corr()\n",
        "f, ax = plt.subplots(figsize=(20,15))\n",
        "ax.set_title('Correlation Heatmap',fontsize=20)\n",
        "sns.heatmap(corrmat, vmax=0.9,cmap=\"RdBu_r\", square=True)\n",
        "plt.show()"
      ],
      "metadata": {
        "colab": {
          "base_uri": "https://localhost:8080/",
          "height": 1000
        },
        "id": "mtBXw0_ySMy0",
        "outputId": "4f5322fd-60a1-4d3d-90c6-f33ba5d87be1"
      },
      "execution_count": null,
      "outputs": [
        {
          "output_type": "display_data",
          "data": {
            "text/plain": [
              "<Figure size 1440x1080 with 2 Axes>"
            ],
            "image/png": "[encoded data removed]"
          },
          "metadata": {}
        }
      ]
    },
    {
      "cell_type": "code",
      "source": [
        "k = 11\n",
        "cols = corrmat.nlargest(k, 'Habitability_score')['Habitability_score'].index\n",
        "corrmat2 = data[cols].corr()\n",
        "\n",
        "sns.set(font_scale=1)\n",
        "f, ax = plt.subplots(figsize=(20,18))\n",
        "ax.set_title('Habitability_score Correlation Heatmap',fontsize=20)\n",
        "sns.heatmap(corrmat2,vmax=0.9, annot=True, cmap=\"RdBu_r\", square=True)\n",
        "plt.show()"
      ],
      "metadata": {
        "colab": {
          "base_uri": "https://localhost:8080/",
          "height": 1000
        },
        "id": "qLNPyxXRRuza",
        "outputId": "41c784f5-28e9-49cc-d5ea-345a10534b42"
      },
      "execution_count": null,
      "outputs": [
        {
          "output_type": "display_data",
          "data": {
            "text/plain": [
              "<Figure size 1440x1296 with 2 Axes>"
            ],
            "image/png": "[encoded data removed]"
          },
          "metadata": {}
        }
      ]
    },
    {
      "cell_type": "code",
      "source": [
        "total = data.isnull().sum().sort_values(ascending=False)\n",
        "percent = (data.isnull().sum()/data.isnull().count()).sort_values(ascending=False)\n",
        "missing_data = pd.concat([total,percent], axis=1,keys=['Total','Percent'])\n",
        "missing_data.head(11)"
      ],
      "metadata": {
        "colab": {
          "base_uri": "https://localhost:8080/",
          "height": 394
        },
        "id": "WDf2ADfYIrzU",
        "outputId": "f4d70b21-b8c7-4b2a-eb2c-abcb4190f071"
      },
      "execution_count": null,
      "outputs": [
        {
          "output_type": "execute_result",
          "data": {
            "text/plain": [
              "                           Total  Percent\n",
              "Property_Area                  0      0.0\n",
              "Number_of_Windows              0      0.0\n",
              "Number_of_Doors                0      0.0\n",
              "Frequency_of_Powercuts         0      0.0\n",
              "Traffic_Density_Score          0      0.0\n",
              "Air_Quality_Index              0      0.0\n",
              "Neighborhood_Review            0      0.0\n",
              "Habitability_score             0      0.0\n",
              "Crime_Rate_equivalent          0      0.0\n",
              "Dust_and_Noise_equivalent      0      0.0\n",
              "Water_Supply_equivalent        0      0.0"
            ],
            "text/html": [
              "\n",
              "  <div id=\"df-d9c3704b-c561-4863-bed8-b7dda57e1666\">\n",
              "    <div class=\"colab-df-container\">\n",
              "      <div>\n",
              "<style scoped>\n",
              "    .dataframe tbody tr th:only-of-type {\n",
              "        vertical-align: middle;\n",
              "    }\n",
              "\n",
              "    .dataframe tbody tr th {\n",
              "        vertical-align: top;\n",
              "    }\n",
              "\n",
              "    .dataframe thead th {\n",
              "        text-align: right;\n",
              "    }\n",
              "</style>\n",
              "<table border=\"1\" class=\"dataframe\">\n",
              "  <thead>\n",
              "    <tr style=\"text-align: right;\">\n",
              "      <th></th>\n",
              "      <th>Total</th>\n",
              "      <th>Percent</th>\n",
              "    </tr>\n",
              "  </thead>\n",
              "  <tbody>\n",
              "    <tr>\n",
              "      <th>Property_Area</th>\n",
              "      <td>0</td>\n",
              "      <td>0.0</td>\n",
              "    </tr>\n",
              "    <tr>\n",
              "      <th>Number_of_Windows</th>\n",
              "      <td>0</td>\n",
              "      <td>0.0</td>\n",
              "    </tr>\n",
              "    <tr>\n",
              "      <th>Number_of_Doors</th>\n",
              "      <td>0</td>\n",
              "      <td>0.0</td>\n",
              "    </tr>\n",
              "    <tr>\n",
              "      <th>Frequency_of_Powercuts</th>\n",
              "      <td>0</td>\n",
              "      <td>0.0</td>\n",
              "    </tr>\n",
              "    <tr>\n",
              "      <th>Traffic_Density_Score</th>\n",
              "      <td>0</td>\n",
              "      <td>0.0</td>\n",
              "    </tr>\n",
              "    <tr>\n",
              "      <th>Air_Quality_Index</th>\n",
              "      <td>0</td>\n",
              "      <td>0.0</td>\n",
              "    </tr>\n",
              "    <tr>\n",
              "      <th>Neighborhood_Review</th>\n",
              "      <td>0</td>\n",
              "      <td>0.0</td>\n",
              "    </tr>\n",
              "    <tr>\n",
              "      <th>Habitability_score</th>\n",
              "      <td>0</td>\n",
              "      <td>0.0</td>\n",
              "    </tr>\n",
              "    <tr>\n",
              "      <th>Crime_Rate_equivalent</th>\n",
              "      <td>0</td>\n",
              "      <td>0.0</td>\n",
              "    </tr>\n",
              "    <tr>\n",
              "      <th>Dust_and_Noise_equivalent</th>\n",
              "      <td>0</td>\n",
              "      <td>0.0</td>\n",
              "    </tr>\n",
              "    <tr>\n",
              "      <th>Water_Supply_equivalent</th>\n",
              "      <td>0</td>\n",
              "      <td>0.0</td>\n",
              "    </tr>\n",
              "  </tbody>\n",
              "</table>\n",
              "</div>\n",
              "      <button class=\"colab-df-convert\" onclick=\"convertToInteractive('df-d9c3704b-c561-4863-bed8-b7dda57e1666')\"\n",
              "              title=\"Convert this dataframe to an interactive table.\"\n",
              "              style=\"display:none;\">\n",
              "        \n",
              "  <svg xmlns=\"http://www.w3.org/2000/svg\" height=\"24px\"viewBox=\"0 0 24 24\"\n",
              "       width=\"24px\">\n",
              "    <path d=\"M0 0h24v24H0V0z\" fill=\"none\"/>\n",
              "    <path d=\"M18.56 5.44l.94 2.06.94-2.06 2.06-.94-2.06-.94-.94-2.06-.94 2.06-2.06.94zm-11 1L8.5 8.5l.94-2.06 2.06-.94-2.06-.94L8.5 2.5l-.94 2.06-2.06.94zm10 10l.94 2.06.94-2.06 2.06-.94-2.06-.94-.94-2.06-.94 2.06-2.06.94z\"/><path d=\"M17.41 7.96l-1.37-1.37c-.4-.4-.92-.59-1.43-.59-.52 0-1.04.2-1.43.59L10.3 9.45l-7.72 7.72c-.78.78-.78 2.05 0 2.83L4 21.41c.39.39.9.59 1.41.59.51 0 1.02-.2 1.41-.59l7.78-7.78 2.81-2.81c.8-.78.8-2.07 0-2.86zM5.41 20L4 18.59l7.72-7.72 1.47 1.35L5.41 20z\"/>\n",
              "  </svg>\n",
              "      </button>\n",
              "      \n",
              "  <style>\n",
              "    .colab-df-container {\n",
              "      display:flex;\n",
              "      flex-wrap:wrap;\n",
              "      gap: 12px;\n",
              "    }\n",
              "\n",
              "    .colab-df-convert {\n",
              "      background-color: #E8F0FE;\n",
              "      border: none;\n",
              "      border-radius: 50%;\n",
              "      cursor: pointer;\n",
              "      display: none;\n",
              "      fill: #1967D2;\n",
              "      height: 32px;\n",
              "      padding: 0 0 0 0;\n",
              "      width: 32px;\n",
              "    }\n",
              "\n",
              "    .colab-df-convert:hover {\n",
              "      background-color: #E2EBFA;\n",
              "      box-shadow: 0px 1px 2px rgba(60, 64, 67, 0.3), 0px 1px 3px 1px rgba(60, 64, 67, 0.15);\n",
              "      fill: #174EA6;\n",
              "    }\n",
              "\n",
              "    [theme=dark] .colab-df-convert {\n",
              "      background-color: #3B4455;\n",
              "      fill: #D2E3FC;\n",
              "    }\n",
              "\n",
              "    [theme=dark] .colab-df-convert:hover {\n",
              "      background-color: #434B5C;\n",
              "      box-shadow: 0px 1px 3px 1px rgba(0, 0, 0, 0.15);\n",
              "      filter: drop-shadow(0px 1px 2px rgba(0, 0, 0, 0.3));\n",
              "      fill: #FFFFFF;\n",
              "    }\n",
              "  </style>\n",
              "\n",
              "      <script>\n",
              "        const buttonEl =\n",
              "          document.querySelector('#df-d9c3704b-c561-4863-bed8-b7dda57e1666 button.colab-df-convert');\n",
              "        buttonEl.style.display =\n",
              "          google.colab.kernel.accessAllowed ? 'block' : 'none';\n",
              "\n",
              "        async function convertToInteractive(key) {\n",
              "          const element = document.querySelector('#df-d9c3704b-c561-4863-bed8-b7dda57e1666');\n",
              "          const dataTable =\n",
              "            await google.colab.kernel.invokeFunction('convertToInteractive',\n",
              "                                                     [key], {});\n",
              "          if (!dataTable) return;\n",
              "\n",
              "          const docLinkHtml = 'Like what you see? Visit the ' +\n",
              "            '<a target=\"_blank\" href=https://colab.research.google.com/notebooks/data_table.ipynb>data table notebook</a>'\n",
              "            + ' to learn more about interactive tables.';\n",
              "          element.innerHTML = '';\n",
              "          dataTable['output_type'] = 'display_data';\n",
              "          await google.colab.output.renderOutput(dataTable, element);\n",
              "          const docLink = document.createElement('div');\n",
              "          docLink.innerHTML = docLinkHtml;\n",
              "          element.appendChild(docLink);\n",
              "        }\n",
              "      </script>\n",
              "    </div>\n",
              "  </div>\n",
              "  "
            ]
          },
          "metadata": {},
          "execution_count": 408
        }
      ]
    },
    {
      "cell_type": "code",
      "source": [
        "total = tdata.isnull().sum().sort_values(ascending=False)\n",
        "percent = (tdata.isnull().sum()/tdata.isnull().count()).sort_values(ascending=False)\n",
        "missing_tdata = pd.concat([total,percent], axis=1,keys=['Total','Percent'])\n",
        "missing_tdata.head(11)"
      ],
      "metadata": {
        "colab": {
          "base_uri": "https://localhost:8080/",
          "height": 394
        },
        "id": "wO3lfJ18HATj",
        "outputId": "17f22771-e8ce-49e7-f9e3-3fd9daeaf80b"
      },
      "execution_count": null,
      "outputs": [
        {
          "output_type": "execute_result",
          "data": {
            "text/plain": [
              "                           Total  Percent\n",
              "Property_ID                    0      0.0\n",
              "Property_Area                  0      0.0\n",
              "Number_of_Windows              0      0.0\n",
              "Number_of_Doors                0      0.0\n",
              "Frequency_of_Powercuts         0      0.0\n",
              "Traffic_Density_Score          0      0.0\n",
              "Air_Quality_Index              0      0.0\n",
              "Neighborhood_Review            0      0.0\n",
              "Crime_Rate_equivalent          0      0.0\n",
              "Dust_and_Noise_equivalent      0      0.0\n",
              "Water_Supply_equivalent        0      0.0"
            ],
            "text/html": [
              "\n",
              "  <div id=\"df-57688c40-e1d9-4b7a-bc0b-6debf23bb57a\">\n",
              "    <div class=\"colab-df-container\">\n",
              "      <div>\n",
              "<style scoped>\n",
              "    .dataframe tbody tr th:only-of-type {\n",
              "        vertical-align: middle;\n",
              "    }\n",
              "\n",
              "    .dataframe tbody tr th {\n",
              "        vertical-align: top;\n",
              "    }\n",
              "\n",
              "    .dataframe thead th {\n",
              "        text-align: right;\n",
              "    }\n",
              "</style>\n",
              "<table border=\"1\" class=\"dataframe\">\n",
              "  <thead>\n",
              "    <tr style=\"text-align: right;\">\n",
              "      <th></th>\n",
              "      <th>Total</th>\n",
              "      <th>Percent</th>\n",
              "    </tr>\n",
              "  </thead>\n",
              "  <tbody>\n",
              "    <tr>\n",
              "      <th>Property_ID</th>\n",
              "      <td>0</td>\n",
              "      <td>0.0</td>\n",
              "    </tr>\n",
              "    <tr>\n",
              "      <th>Property_Area</th>\n",
              "      <td>0</td>\n",
              "      <td>0.0</td>\n",
              "    </tr>\n",
              "    <tr>\n",
              "      <th>Number_of_Windows</th>\n",
              "      <td>0</td>\n",
              "      <td>0.0</td>\n",
              "    </tr>\n",
              "    <tr>\n",
              "      <th>Number_of_Doors</th>\n",
              "      <td>0</td>\n",
              "      <td>0.0</td>\n",
              "    </tr>\n",
              "    <tr>\n",
              "      <th>Frequency_of_Powercuts</th>\n",
              "      <td>0</td>\n",
              "      <td>0.0</td>\n",
              "    </tr>\n",
              "    <tr>\n",
              "      <th>Traffic_Density_Score</th>\n",
              "      <td>0</td>\n",
              "      <td>0.0</td>\n",
              "    </tr>\n",
              "    <tr>\n",
              "      <th>Air_Quality_Index</th>\n",
              "      <td>0</td>\n",
              "      <td>0.0</td>\n",
              "    </tr>\n",
              "    <tr>\n",
              "      <th>Neighborhood_Review</th>\n",
              "      <td>0</td>\n",
              "      <td>0.0</td>\n",
              "    </tr>\n",
              "    <tr>\n",
              "      <th>Crime_Rate_equivalent</th>\n",
              "      <td>0</td>\n",
              "      <td>0.0</td>\n",
              "    </tr>\n",
              "    <tr>\n",
              "      <th>Dust_and_Noise_equivalent</th>\n",
              "      <td>0</td>\n",
              "      <td>0.0</td>\n",
              "    </tr>\n",
              "    <tr>\n",
              "      <th>Water_Supply_equivalent</th>\n",
              "      <td>0</td>\n",
              "      <td>0.0</td>\n",
              "    </tr>\n",
              "  </tbody>\n",
              "</table>\n",
              "</div>\n",
              "      <button class=\"colab-df-convert\" onclick=\"convertToInteractive('df-57688c40-e1d9-4b7a-bc0b-6debf23bb57a')\"\n",
              "              title=\"Convert this dataframe to an interactive table.\"\n",
              "              style=\"display:none;\">\n",
              "        \n",
              "  <svg xmlns=\"http://www.w3.org/2000/svg\" height=\"24px\"viewBox=\"0 0 24 24\"\n",
              "       width=\"24px\">\n",
              "    <path d=\"M0 0h24v24H0V0z\" fill=\"none\"/>\n",
              "    <path d=\"M18.56 5.44l.94 2.06.94-2.06 2.06-.94-2.06-.94-.94-2.06-.94 2.06-2.06.94zm-11 1L8.5 8.5l.94-2.06 2.06-.94-2.06-.94L8.5 2.5l-.94 2.06-2.06.94zm10 10l.94 2.06.94-2.06 2.06-.94-2.06-.94-.94-2.06-.94 2.06-2.06.94z\"/><path d=\"M17.41 7.96l-1.37-1.37c-.4-.4-.92-.59-1.43-.59-.52 0-1.04.2-1.43.59L10.3 9.45l-7.72 7.72c-.78.78-.78 2.05 0 2.83L4 21.41c.39.39.9.59 1.41.59.51 0 1.02-.2 1.41-.59l7.78-7.78 2.81-2.81c.8-.78.8-2.07 0-2.86zM5.41 20L4 18.59l7.72-7.72 1.47 1.35L5.41 20z\"/>\n",
              "  </svg>\n",
              "      </button>\n",
              "      \n",
              "  <style>\n",
              "    .colab-df-container {\n",
              "      display:flex;\n",
              "      flex-wrap:wrap;\n",
              "      gap: 12px;\n",
              "    }\n",
              "\n",
              "    .colab-df-convert {\n",
              "      background-color: #E8F0FE;\n",
              "      border: none;\n",
              "      border-radius: 50%;\n",
              "      cursor: pointer;\n",
              "      display: none;\n",
              "      fill: #1967D2;\n",
              "      height: 32px;\n",
              "      padding: 0 0 0 0;\n",
              "      width: 32px;\n",
              "    }\n",
              "\n",
              "    .colab-df-convert:hover {\n",
              "      background-color: #E2EBFA;\n",
              "      box-shadow: 0px 1px 2px rgba(60, 64, 67, 0.3), 0px 1px 3px 1px rgba(60, 64, 67, 0.15);\n",
              "      fill: #174EA6;\n",
              "    }\n",
              "\n",
              "    [theme=dark] .colab-df-convert {\n",
              "      background-color: #3B4455;\n",
              "      fill: #D2E3FC;\n",
              "    }\n",
              "\n",
              "    [theme=dark] .colab-df-convert:hover {\n",
              "      background-color: #434B5C;\n",
              "      box-shadow: 0px 1px 3px 1px rgba(0, 0, 0, 0.15);\n",
              "      filter: drop-shadow(0px 1px 2px rgba(0, 0, 0, 0.3));\n",
              "      fill: #FFFFFF;\n",
              "    }\n",
              "  </style>\n",
              "\n",
              "      <script>\n",
              "        const buttonEl =\n",
              "          document.querySelector('#df-57688c40-e1d9-4b7a-bc0b-6debf23bb57a button.colab-df-convert');\n",
              "        buttonEl.style.display =\n",
              "          google.colab.kernel.accessAllowed ? 'block' : 'none';\n",
              "\n",
              "        async function convertToInteractive(key) {\n",
              "          const element = document.querySelector('#df-57688c40-e1d9-4b7a-bc0b-6debf23bb57a');\n",
              "          const dataTable =\n",
              "            await google.colab.kernel.invokeFunction('convertToInteractive',\n",
              "                                                     [key], {});\n",
              "          if (!dataTable) return;\n",
              "\n",
              "          const docLinkHtml = 'Like what you see? Visit the ' +\n",
              "            '<a target=\"_blank\" href=https://colab.research.google.com/notebooks/data_table.ipynb>data table notebook</a>'\n",
              "            + ' to learn more about interactive tables.';\n",
              "          element.innerHTML = '';\n",
              "          dataTable['output_type'] = 'display_data';\n",
              "          await google.colab.output.renderOutput(dataTable, element);\n",
              "          const docLink = document.createElement('div');\n",
              "          docLink.innerHTML = docLinkHtml;\n",
              "          element.appendChild(docLink);\n",
              "        }\n",
              "      </script>\n",
              "    </div>\n",
              "  </div>\n",
              "  "
            ]
          },
          "metadata": {},
          "execution_count": 409
        }
      ]
    },
    {
      "cell_type": "code",
      "source": [
        "data.to_csv(\"cleandata.csv\")\n",
        "data = pd.read_csv(\"cleandata.csv\")\n",
        "data.info()\n",
        "\n"
      ],
      "metadata": {
        "colab": {
          "base_uri": "https://localhost:8080/"
        },
        "id": "C-Kx_97nJpaZ",
        "outputId": "a1d0c201-48ca-439e-cbc0-f3d431ac72b2"
      },
      "execution_count": null,
      "outputs": [
        {
          "output_type": "stream",
          "name": "stdout",
          "text": [
            "<class 'pandas.core.frame.DataFrame'>\n",
            "RangeIndex: 33772 entries, 0 to 33771\n",
            "Data columns (total 15 columns):\n",
            " #   Column                     Non-Null Count  Dtype  \n",
            "---  ------                     --------------  -----  \n",
            " 0   Unnamed: 0                 33772 non-null  int64  \n",
            " 1   Property_Area              33772 non-null  int64  \n",
            " 2   Number_of_Windows          33772 non-null  int64  \n",
            " 3   Number_of_Doors            33772 non-null  int64  \n",
            " 4   Frequency_of_Powercuts     33772 non-null  int64  \n",
            " 5   Traffic_Density_Score      33772 non-null  float64\n",
            " 6   Air_Quality_Index          33772 non-null  int64  \n",
            " 7   Neighborhood_Review        33772 non-null  float64\n",
            " 8   Habitability_score         33772 non-null  float64\n",
            " 9   Crime_Rate_equivalent      33772 non-null  int64  \n",
            " 10  Dust_and_Noise_equivalent  33772 non-null  int64  \n",
            " 11  Water_Supply_equivalent    33772 non-null  int64  \n",
            " 12  Furnishing_equivalent      33772 non-null  int64  \n",
            " 13  Property_Type_equivalent   33772 non-null  int64  \n",
            " 14  Power_Backup_equivalent    33772 non-null  int64  \n",
            "dtypes: float64(3), int64(12)\n",
            "memory usage: 3.9 MB\n"
          ]
        }
      ]
    },
    {
      "cell_type": "code",
      "source": [
        "tdata.to_csv(\"cleantdata.csv\")\n",
        "tdata = pd.read_csv(\"cleantdata.csv\")\n",
        "tdata.info()\n"
      ],
      "metadata": {
        "colab": {
          "base_uri": "https://localhost:8080/"
        },
        "id": "HgMtrxdLHf-0",
        "outputId": "d5626424-fcf1-4954-9171-dcc01b5ab041"
      },
      "execution_count": null,
      "outputs": [
        {
          "output_type": "stream",
          "name": "stdout",
          "text": [
            "<class 'pandas.core.frame.DataFrame'>\n",
            "RangeIndex: 10500 entries, 0 to 10499\n",
            "Data columns (total 15 columns):\n",
            " #   Column                     Non-Null Count  Dtype  \n",
            "---  ------                     --------------  -----  \n",
            " 0   Unnamed: 0                 10500 non-null  int64  \n",
            " 1   Property_ID                10500 non-null  object \n",
            " 2   Property_Area              10500 non-null  int64  \n",
            " 3   Number_of_Windows          10500 non-null  float64\n",
            " 4   Number_of_Doors            10500 non-null  int64  \n",
            " 5   Frequency_of_Powercuts     10500 non-null  float64\n",
            " 6   Traffic_Density_Score      10500 non-null  float64\n",
            " 7   Air_Quality_Index          10500 non-null  float64\n",
            " 8   Neighborhood_Review        10500 non-null  float64\n",
            " 9   Crime_Rate_equivalent      10500 non-null  int64  \n",
            " 10  Dust_and_Noise_equivalent  10500 non-null  int64  \n",
            " 11  Water_Supply_equivalent    10500 non-null  int64  \n",
            " 12  Furnishing_equivalent      10500 non-null  int64  \n",
            " 13  Property_Type_equivalent   10500 non-null  int64  \n",
            " 14  Power_Backup_equivalent    10500 non-null  int64  \n",
            "dtypes: float64(5), int64(9), object(1)\n",
            "memory usage: 1.2+ MB\n"
          ]
        }
      ]
    },
    {
      "cell_type": "code",
      "source": [
        "data = data.drop([ 'Unnamed: 0' ],axis=1)\n",
        "data.info()"
      ],
      "metadata": {
        "colab": {
          "base_uri": "https://localhost:8080/"
        },
        "id": "BEEBsoY5Plv9",
        "outputId": "5a399506-0805-495a-d256-41b57a6681de"
      },
      "execution_count": null,
      "outputs": [
        {
          "output_type": "stream",
          "name": "stdout",
          "text": [
            "<class 'pandas.core.frame.DataFrame'>\n",
            "RangeIndex: 33772 entries, 0 to 33771\n",
            "Data columns (total 14 columns):\n",
            " #   Column                     Non-Null Count  Dtype  \n",
            "---  ------                     --------------  -----  \n",
            " 0   Property_Area              33772 non-null  int64  \n",
            " 1   Number_of_Windows          33772 non-null  int64  \n",
            " 2   Number_of_Doors            33772 non-null  int64  \n",
            " 3   Frequency_of_Powercuts     33772 non-null  int64  \n",
            " 4   Traffic_Density_Score      33772 non-null  float64\n",
            " 5   Air_Quality_Index          33772 non-null  int64  \n",
            " 6   Neighborhood_Review        33772 non-null  float64\n",
            " 7   Habitability_score         33772 non-null  float64\n",
            " 8   Crime_Rate_equivalent      33772 non-null  int64  \n",
            " 9   Dust_and_Noise_equivalent  33772 non-null  int64  \n",
            " 10  Water_Supply_equivalent    33772 non-null  int64  \n",
            " 11  Furnishing_equivalent      33772 non-null  int64  \n",
            " 12  Property_Type_equivalent   33772 non-null  int64  \n",
            " 13  Power_Backup_equivalent    33772 non-null  int64  \n",
            "dtypes: float64(3), int64(11)\n",
            "memory usage: 3.6 MB\n"
          ]
        }
      ]
    },
    {
      "cell_type": "code",
      "source": [
        "tdata = tdata.drop([ 'Unnamed: 0' ],axis=1)\n",
        "tdata.info()"
      ],
      "metadata": {
        "colab": {
          "base_uri": "https://localhost:8080/"
        },
        "id": "uACiFi43IhsC",
        "outputId": "35c180ad-7d02-4fdd-984b-b866b83d3abb"
      },
      "execution_count": null,
      "outputs": [
        {
          "output_type": "stream",
          "name": "stdout",
          "text": [
            "<class 'pandas.core.frame.DataFrame'>\n",
            "RangeIndex: 10500 entries, 0 to 10499\n",
            "Data columns (total 14 columns):\n",
            " #   Column                     Non-Null Count  Dtype  \n",
            "---  ------                     --------------  -----  \n",
            " 0   Property_ID                10500 non-null  object \n",
            " 1   Property_Area              10500 non-null  int64  \n",
            " 2   Number_of_Windows          10500 non-null  float64\n",
            " 3   Number_of_Doors            10500 non-null  int64  \n",
            " 4   Frequency_of_Powercuts     10500 non-null  float64\n",
            " 5   Traffic_Density_Score      10500 non-null  float64\n",
            " 6   Air_Quality_Index          10500 non-null  float64\n",
            " 7   Neighborhood_Review        10500 non-null  float64\n",
            " 8   Crime_Rate_equivalent      10500 non-null  int64  \n",
            " 9   Dust_and_Noise_equivalent  10500 non-null  int64  \n",
            " 10  Water_Supply_equivalent    10500 non-null  int64  \n",
            " 11  Furnishing_equivalent      10500 non-null  int64  \n",
            " 12  Property_Type_equivalent   10500 non-null  int64  \n",
            " 13  Power_Backup_equivalent    10500 non-null  int64  \n",
            "dtypes: float64(5), int64(8), object(1)\n",
            "memory usage: 1.1+ MB\n"
          ]
        }
      ]
    },
    {
      "cell_type": "code",
      "source": [
        "test_data = data.sample(frac=0.05)\n",
        "print(data.shape)\n",
        "duplicates = set(data.index).intersection(test_data.index)\n",
        "data = data.drop(duplicates, axis=0)\n",
        "print(data.shape)"
      ],
      "metadata": {
        "colab": {
          "base_uri": "https://localhost:8080/"
        },
        "id": "oTNoYxWFLj8M",
        "outputId": "823f87b2-5b99-4e08-c52b-d99145023217"
      },
      "execution_count": null,
      "outputs": [
        {
          "output_type": "stream",
          "name": "stdout",
          "text": [
            "(33772, 14)\n",
            "(32083, 14)\n"
          ]
        }
      ]
    },
    {
      "cell_type": "code",
      "source": [
        "test_data = test_data.drop(['Habitability_score'],axis=1)\n",
        "print(test_data.shape)"
      ],
      "metadata": {
        "id": "o_hSlwLlLtSc",
        "colab": {
          "base_uri": "https://localhost:8080/"
        },
        "outputId": "3926d1c0-7ac9-40f3-ee7e-49c248369ef4"
      },
      "execution_count": null,
      "outputs": [
        {
          "output_type": "stream",
          "name": "stdout",
          "text": [
            "(1689, 13)\n"
          ]
        }
      ]
    },
    {
      "cell_type": "code",
      "source": [
        "scores = data['Habitability_score']\n",
        "features = data.drop('Habitability_score', axis = 1)"
      ],
      "metadata": {
        "id": "6ZX_MsZELyuP"
      },
      "execution_count": null,
      "outputs": []
    },
    {
      "cell_type": "code",
      "source": [
        "from sklearn.model_selection import train_test_split\n",
        "X_train, X_test, y_train, y_test = train_test_split(features, scores, test_size=0.5, random_state = 42)"
      ],
      "metadata": {
        "id": "6zSZid4cMdhh"
      },
      "execution_count": null,
      "outputs": []
    },
    {
      "cell_type": "code",
      "source": [
        "from sklearn.linear_model import LinearRegression\n",
        "LR_regressor = LinearRegression()\n",
        "LR_regressor.fit(X_train, y_train)"
      ],
      "metadata": {
        "colab": {
          "base_uri": "https://localhost:8080/"
        },
        "id": "1NVv9npGMwVq",
        "outputId": "ce40243e-3c2f-440a-9529-e93c598d3d53"
      },
      "execution_count": null,
      "outputs": [
        {
          "output_type": "execute_result",
          "data": {
            "text/plain": [
              "LinearRegression()"
            ]
          },
          "metadata": {},
          "execution_count": 418
        }
      ]
    },
    {
      "cell_type": "code",
      "source": [
        "LR_regressor.score(X_train,y_train)"
      ],
      "metadata": {
        "colab": {
          "base_uri": "https://localhost:8080/"
        },
        "id": "469cZTmaQOKp",
        "outputId": "7a1bd447-2e63-4809-cbb9-e8978079b592"
      },
      "execution_count": null,
      "outputs": [
        {
          "output_type": "execute_result",
          "data": {
            "text/plain": [
              "0.5758986858242683"
            ]
          },
          "metadata": {},
          "execution_count": 419
        }
      ]
    },
    {
      "cell_type": "code",
      "source": [
        "import statsmodels.api as sm\n",
        "# append intercept to features\n",
        "features = np.append(arr = np.ones((32083,1)).astype(int), values = features, axis=1)\n",
        "\n",
        "features_opt = features[:,[0,1,2,3,4,5,6,7,8,9,10]]\n",
        "regressor_OLS = sm.OLS(endog = scores, exog = features_opt).fit()\n",
        "regressor_OLS.summary()"
      ],
      "metadata": {
        "colab": {
          "base_uri": "https://localhost:8080/",
          "height": 667
        },
        "id": "bqj4VpURRZS_",
        "outputId": "7cc4e533-f5ac-4739-878d-f70c8b35f392"
      },
      "execution_count": null,
      "outputs": [
        {
          "output_type": "execute_result",
          "data": {
            "text/plain": [
              "<class 'statsmodels.iolib.summary.Summary'>\n",
              "\"\"\"\n",
              "                            OLS Regression Results                            \n",
              "==============================================================================\n",
              "Dep. Variable:     Habitability_score   R-squared:                       0.318\n",
              "Model:                            OLS   Adj. R-squared:                  0.317\n",
              "Method:                 Least Squares   F-statistic:                     1492.\n",
              "Date:                Sun, 21 Aug 2022   Prob (F-statistic):               0.00\n",
              "Time:                        14:37:47   Log-Likelihood:            -1.2424e+05\n",
              "No. Observations:               32083   AIC:                         2.485e+05\n",
              "Df Residuals:                   32072   BIC:                         2.486e+05\n",
              "Df Model:                          10                                         \n",
              "Covariance Type:            nonrobust                                         \n",
              "==============================================================================\n",
              "                 coef    std err          t      P>|t|      [0.025      0.975]\n",
              "------------------------------------------------------------------------------\n",
              "const         42.8359      1.504     28.484      0.000      39.888      45.784\n",
              "x1             0.0002   3.47e-05      6.282      0.000       0.000       0.000\n",
              "x2             0.3688      0.027     13.762      0.000       0.316       0.421\n",
              "x3             0.4701      0.060      7.798      0.000       0.352       0.588\n",
              "x4             0.6236      0.291      2.140      0.032       0.052       1.195\n",
              "x5            -0.2323      0.066     -3.520      0.000      -0.362      -0.103\n",
              "x6            -0.0023      0.001     -2.067      0.039      -0.004      -0.000\n",
              "x7             8.0716      0.445     18.133      0.000       7.199       8.944\n",
              "x8             0.1313      0.020      6.439      0.000       0.091       0.171\n",
              "x9            -0.2496      0.022    -11.465      0.000      -0.292      -0.207\n",
              "x10           -0.7045      0.231     -3.043      0.002      -1.158      -0.251\n",
              "==============================================================================\n",
              "Omnibus:                     2527.318   Durbin-Watson:                   2.002\n",
              "Prob(Omnibus):                  0.000   Jarque-Bera (JB):             3460.774\n",
              "Skew:                          -0.670   Prob(JB):                         0.00\n",
              "Kurtosis:                       3.890   Cond. No.                     5.93e+04\n",
              "==============================================================================\n",
              "\n",
              "Notes:\n",
              "[1] Standard Errors assume that the covariance matrix of the errors is correctly specified.\n",
              "[2] The condition number is large, 5.93e+04. This might indicate that there are\n",
              "strong multicollinearity or other numerical problems.\n",
              "\"\"\""
            ],
            "text/html": [
              "<table class=\"simpletable\">\n",
              "<caption>OLS Regression Results</caption>\n",
              "<tr>\n",
              "  <th>Dep. Variable:</th>    <td>Habitability_score</td> <th>  R-squared:         </th>  <td>   0.318</td>  \n",
              "</tr>\n",
              "<tr>\n",
              "  <th>Model:</th>                    <td>OLS</td>        <th>  Adj. R-squared:    </th>  <td>   0.317</td>  \n",
              "</tr>\n",
              "<tr>\n",
              "  <th>Method:</th>              <td>Least Squares</td>   <th>  F-statistic:       </th>  <td>   1492.</td>  \n",
              "</tr>\n",
              "<tr>\n",
              "  <th>Date:</th>              <td>Sun, 21 Aug 2022</td>  <th>  Prob (F-statistic):</th>   <td>  0.00</td>   \n",
              "</tr>\n",
              "<tr>\n",
              "  <th>Time:</th>                  <td>14:37:47</td>      <th>  Log-Likelihood:    </th> <td>-1.2424e+05</td>\n",
              "</tr>\n",
              "<tr>\n",
              "  <th>No. Observations:</th>       <td> 32083</td>       <th>  AIC:               </th>  <td>2.485e+05</td> \n",
              "</tr>\n",
              "<tr>\n",
              "  <th>Df Residuals:</th>           <td> 32072</td>       <th>  BIC:               </th>  <td>2.486e+05</td> \n",
              "</tr>\n",
              "<tr>\n",
              "  <th>Df Model:</th>               <td>    10</td>       <th>                     </th>      <td> </td>     \n",
              "</tr>\n",
              "<tr>\n",
              "  <th>Covariance Type:</th>       <td>nonrobust</td>     <th>                     </th>      <td> </td>     \n",
              "</tr>\n",
              "</table>\n",
              "<table class=\"simpletable\">\n",
              "<tr>\n",
              "    <td></td>       <th>coef</th>     <th>std err</th>      <th>t</th>      <th>P>|t|</th>  <th>[0.025</th>    <th>0.975]</th>  \n",
              "</tr>\n",
              "<tr>\n",
              "  <th>const</th> <td>   42.8359</td> <td>    1.504</td> <td>   28.484</td> <td> 0.000</td> <td>   39.888</td> <td>   45.784</td>\n",
              "</tr>\n",
              "<tr>\n",
              "  <th>x1</th>    <td>    0.0002</td> <td> 3.47e-05</td> <td>    6.282</td> <td> 0.000</td> <td>    0.000</td> <td>    0.000</td>\n",
              "</tr>\n",
              "<tr>\n",
              "  <th>x2</th>    <td>    0.3688</td> <td>    0.027</td> <td>   13.762</td> <td> 0.000</td> <td>    0.316</td> <td>    0.421</td>\n",
              "</tr>\n",
              "<tr>\n",
              "  <th>x3</th>    <td>    0.4701</td> <td>    0.060</td> <td>    7.798</td> <td> 0.000</td> <td>    0.352</td> <td>    0.588</td>\n",
              "</tr>\n",
              "<tr>\n",
              "  <th>x4</th>    <td>    0.6236</td> <td>    0.291</td> <td>    2.140</td> <td> 0.032</td> <td>    0.052</td> <td>    1.195</td>\n",
              "</tr>\n",
              "<tr>\n",
              "  <th>x5</th>    <td>   -0.2323</td> <td>    0.066</td> <td>   -3.520</td> <td> 0.000</td> <td>   -0.362</td> <td>   -0.103</td>\n",
              "</tr>\n",
              "<tr>\n",
              "  <th>x6</th>    <td>   -0.0023</td> <td>    0.001</td> <td>   -2.067</td> <td> 0.039</td> <td>   -0.004</td> <td>   -0.000</td>\n",
              "</tr>\n",
              "<tr>\n",
              "  <th>x7</th>    <td>    8.0716</td> <td>    0.445</td> <td>   18.133</td> <td> 0.000</td> <td>    7.199</td> <td>    8.944</td>\n",
              "</tr>\n",
              "<tr>\n",
              "  <th>x8</th>    <td>    0.1313</td> <td>    0.020</td> <td>    6.439</td> <td> 0.000</td> <td>    0.091</td> <td>    0.171</td>\n",
              "</tr>\n",
              "<tr>\n",
              "  <th>x9</th>    <td>   -0.2496</td> <td>    0.022</td> <td>  -11.465</td> <td> 0.000</td> <td>   -0.292</td> <td>   -0.207</td>\n",
              "</tr>\n",
              "<tr>\n",
              "  <th>x10</th>   <td>   -0.7045</td> <td>    0.231</td> <td>   -3.043</td> <td> 0.002</td> <td>   -1.158</td> <td>   -0.251</td>\n",
              "</tr>\n",
              "</table>\n",
              "<table class=\"simpletable\">\n",
              "<tr>\n",
              "  <th>Omnibus:</th>       <td>2527.318</td> <th>  Durbin-Watson:     </th> <td>   2.002</td>\n",
              "</tr>\n",
              "<tr>\n",
              "  <th>Prob(Omnibus):</th>  <td> 0.000</td>  <th>  Jarque-Bera (JB):  </th> <td>3460.774</td>\n",
              "</tr>\n",
              "<tr>\n",
              "  <th>Skew:</th>           <td>-0.670</td>  <th>  Prob(JB):          </th> <td>    0.00</td>\n",
              "</tr>\n",
              "<tr>\n",
              "  <th>Kurtosis:</th>       <td> 3.890</td>  <th>  Cond. No.          </th> <td>5.93e+04</td>\n",
              "</tr>\n",
              "</table><br/><br/>Notes:<br/>[1] Standard Errors assume that the covariance matrix of the errors is correctly specified.<br/>[2] The condition number is large, 5.93e+04. This might indicate that there are<br/>strong multicollinearity or other numerical problems."
            ]
          },
          "metadata": {},
          "execution_count": 420
        }
      ]
    },
    {
      "cell_type": "code",
      "source": [
        "from sklearn.metrics import r2_score\n",
        "from sklearn.model_selection import KFold\n",
        "from sklearn.tree import DecisionTreeRegressor\n",
        "from sklearn.metrics import make_scorer\n",
        "from sklearn.model_selection import GridSearchCV\n",
        "from sklearn.model_selection import ShuffleSplit"
      ],
      "metadata": {
        "id": "XHIzpWqrWXx2"
      },
      "execution_count": null,
      "outputs": []
    },
    {
      "cell_type": "code",
      "source": [
        "def performance_metric(y_true, y_predict):\n",
        "    score = r2_score(y_true, y_predict)\n",
        "    return score"
      ],
      "metadata": {
        "id": "CHJDRRf8WjZA"
      },
      "execution_count": null,
      "outputs": []
    },
    {
      "cell_type": "code",
      "source": [
        "def fit_model(X, y):\n",
        "    \"\"\" Performs grid search over the 'max_depth' parameter for a \n",
        "        decision tree regressor trained on the input data [X, y]. \"\"\"\n",
        "    \n",
        "    # Create cross-validation sets from the training data\n",
        "    cv_sets = ShuffleSplit(n_splits = 10, test_size = 0.20, random_state = 0)\n",
        "\n",
        "    # Create a decision tree regressor object\n",
        "    regressor = DecisionTreeRegressor()\n",
        "\n",
        "    # Create a dictionary for the parameter 'max_depth' with a range from 1 to 10\n",
        "    params = {'max_depth':[1,2,3,4,5,6,7,8,9,10,11,12,13,14,15]}\n",
        "\n",
        "    # Transform 'performance_metric' into a scoring function using 'make_scorer' \n",
        "    scoring_fnc = make_scorer(performance_metric)\n",
        "\n",
        "    # Create the grid search cv object --> GridSearchCV()\n",
        "    # Make sure to include the right parameters in the object:\n",
        "    # (estimator, param_grid, scoring, cv) which have values 'regressor', 'params', 'scoring_fnc', and 'cv_sets' respectively.\n",
        "    grid = GridSearchCV(estimator=regressor, param_grid=params, scoring=scoring_fnc, cv=cv_sets)\n",
        "\n",
        "    # Fit the grid search object to the data to compute the optimal model\n",
        "    grid = grid.fit(X, y)\n",
        "\n",
        "    # Return the optimal model after fitting the data\n",
        "    return grid.best_estimator_"
      ],
      "metadata": {
        "id": "THarXbRPWnqd"
      },
      "execution_count": null,
      "outputs": []
    },
    {
      "cell_type": "code",
      "source": [
        "# Fit the training data to the model using grid search\n",
        "decisiontree_regressor = fit_model(X_train, y_train)\n",
        "\n",
        "# Produce the value for 'max_depth'\n",
        "print(\"Parameter 'max_depth' is {} for the optimal model.\".format(decisiontree_regressor.get_params()['max_depth']))"
      ],
      "metadata": {
        "colab": {
          "base_uri": "https://localhost:8080/"
        },
        "id": "qH-V_tIzWuQD",
        "outputId": "77a5dc05-d10e-499a-f933-f13a71039602"
      },
      "execution_count": null,
      "outputs": [
        {
          "output_type": "stream",
          "name": "stdout",
          "text": [
            "Parameter 'max_depth' is 9 for the optimal model.\n"
          ]
        }
      ]
    },
    {
      "cell_type": "code",
      "source": [
        "dt_predicted_score = decisiontree_regressor.predict(X_test)\n",
        "decisiontree_r2 = performance_metric(y_test, dt_predicted_score)\n",
        "print (\"Optimal model has R^2 score {:,.2f} on test data\".format(decisiontree_r2))"
      ],
      "metadata": {
        "colab": {
          "base_uri": "https://localhost:8080/"
        },
        "id": "pK9ssWD6zuNJ",
        "outputId": "829df764-4bb2-4c86-a1ca-c39362b1d165"
      },
      "execution_count": null,
      "outputs": [
        {
          "output_type": "stream",
          "name": "stdout",
          "text": [
            "Optimal model has R^2 score 0.78 on test data\n"
          ]
        }
      ]
    },
    {
      "cell_type": "code",
      "source": [
        "dt_predicted_score = decisiontree_regressor.predict(tdata.drop([ 'Property_ID' ],axis=1))\n",
        "tdata[\"Habitability_score\"] = dt_predicted_score\n",
        "\n",
        "\n",
        "#decisiontree_r2 = performance_metric(y_test, dt_predicted_score)\n",
        "#print (\"Optimal model has R^2 score {:,.2f} on test data\".format(decisiontree_r2))"
      ],
      "metadata": {
        "id": "Jy4T9-LiW6NI"
      },
      "execution_count": null,
      "outputs": []
    },
    {
      "cell_type": "code",
      "source": [
        "tdata.info()"
      ],
      "metadata": {
        "colab": {
          "base_uri": "https://localhost:8080/"
        },
        "id": "egUpfSQmwgqv",
        "outputId": "b11eaec1-6836-4925-8140-edf4ed521f10"
      },
      "execution_count": null,
      "outputs": [
        {
          "output_type": "stream",
          "name": "stdout",
          "text": [
            "<class 'pandas.core.frame.DataFrame'>\n",
            "RangeIndex: 10500 entries, 0 to 10499\n",
            "Data columns (total 15 columns):\n",
            " #   Column                     Non-Null Count  Dtype  \n",
            "---  ------                     --------------  -----  \n",
            " 0   Property_ID                10500 non-null  object \n",
            " 1   Property_Area              10500 non-null  int64  \n",
            " 2   Number_of_Windows          10500 non-null  float64\n",
            " 3   Number_of_Doors            10500 non-null  int64  \n",
            " 4   Frequency_of_Powercuts     10500 non-null  float64\n",
            " 5   Traffic_Density_Score      10500 non-null  float64\n",
            " 6   Air_Quality_Index          10500 non-null  float64\n",
            " 7   Neighborhood_Review        10500 non-null  float64\n",
            " 8   Crime_Rate_equivalent      10500 non-null  int64  \n",
            " 9   Dust_and_Noise_equivalent  10500 non-null  int64  \n",
            " 10  Water_Supply_equivalent    10500 non-null  int64  \n",
            " 11  Furnishing_equivalent      10500 non-null  int64  \n",
            " 12  Property_Type_equivalent   10500 non-null  int64  \n",
            " 13  Power_Backup_equivalent    10500 non-null  int64  \n",
            " 14  Habitability_score         10500 non-null  float64\n",
            "dtypes: float64(6), int64(8), object(1)\n",
            "memory usage: 1.2+ MB\n"
          ]
        }
      ]
    },
    {
      "cell_type": "code",
      "source": [
        "submission = tdata[[\"Property_ID\", \"Habitability_score\"]]\n",
        "submission.to_csv(\"predictions.csv\", index = False)"
      ],
      "metadata": {
        "id": "SJpDNweRwm16"
      },
      "execution_count": null,
      "outputs": []
    },
    {
      "cell_type": "code",
      "source": [
        "from sklearn.ensemble import RandomForestRegressor"
      ],
      "metadata": {
        "id": "sgbbGTLFXTrm"
      },
      "execution_count": null,
      "outputs": []
    },
    {
      "cell_type": "code",
      "source": [
        "def performance_metric(y_true, y_predict):\n",
        "    score = r2_score(y_true, y_predict)\n",
        "    return score"
      ],
      "metadata": {
        "id": "qdfVAVD0XWdf"
      },
      "execution_count": null,
      "outputs": []
    },
    {
      "cell_type": "code",
      "source": [
        "# Fit the training data to the model using grid search\n",
        "randomforest_regressor = fit_model(X_train, y_train)\n",
        "\n",
        "# Produce the value for 'max_depth'\n",
        "print(\"Parameter 'max_depth' is {} for the optimal model.\".format(randomforest_regressor.get_params()['max_depth']))"
      ],
      "metadata": {
        "colab": {
          "base_uri": "https://localhost:8080/"
        },
        "id": "QqHQSJMvXYYa",
        "outputId": "5661947c-6d4b-4b79-8071-a9c84cf2d585"
      },
      "execution_count": null,
      "outputs": [
        {
          "output_type": "stream",
          "name": "stdout",
          "text": [
            "Parameter 'max_depth' is 9 for the optimal model.\n"
          ]
        }
      ]
    },
    {
      "cell_type": "code",
      "source": [
        "model=RandomForestRegressor(n_estimators=100,oob_score=True,n_jobs=-1,random_state=1)\n",
        "model.fit(X_train,y_train)\n",
        "rf_predicted_score = model.predict(X_test)\n",
        "\n",
        "randomforest_r2 = performance_metric(y_test, np.around(rf_predicted_score,2))\n",
        "print (\"Optimal model has R^2 score {:,.2f} on test data\".format(randomforest_r2))"
      ],
      "metadata": {
        "colab": {
          "base_uri": "https://localhost:8080/"
        },
        "id": "5gBonV6P2-Jg",
        "outputId": "3c63fd96-160a-4ca0-9c81-747d15bcc3fd"
      },
      "execution_count": null,
      "outputs": [
        {
          "output_type": "stream",
          "name": "stdout",
          "text": [
            "Optimal model has R^2 score 0.83 on test data\n"
          ]
        }
      ]
    },
    {
      "cell_type": "code",
      "source": [
        "sdata=tdata.drop([ 'Habitability_score','Property_ID' ],axis=1)"
      ],
      "metadata": {
        "id": "a3nXtJeOiW_P"
      },
      "execution_count": null,
      "outputs": []
    },
    {
      "cell_type": "code",
      "source": [
        "model=RandomForestRegressor(n_estimators=100,oob_score=True,n_jobs=-1,random_state=1)\n",
        "model.fit(X_train,y_train)\n",
        "rf_predicted_score = model.predict(sdata)\n",
        "\n",
        "#randomforest_r2 = performance_metric(sdata, np.around(rf_predicted_score,2))\n",
        "#print (\"Optimal model has R^2 score {:,.2f} on test data\".format(randomforest_r2))"
      ],
      "metadata": {
        "id": "a-DN62xNSETQ"
      },
      "execution_count": null,
      "outputs": []
    },
    {
      "cell_type": "code",
      "source": [
        "submission = tdata[[\"Property_ID\"]]\n",
        "submission[\"Habitability_score\"] = dt_predicted_score\n",
        "\n",
        "\n"
      ],
      "metadata": {
        "id": "90KSBaDFSIWh"
      },
      "execution_count": null,
      "outputs": []
    },
    {
      "cell_type": "code",
      "source": [
        "submission.head()"
      ],
      "metadata": {
        "colab": {
          "base_uri": "https://localhost:8080/",
          "height": 206
        },
        "id": "R2g6n945jy-d",
        "outputId": "6d1020fb-44f2-422d-84a0-0d34e186a339"
      },
      "execution_count": null,
      "outputs": [
        {
          "output_type": "execute_result",
          "data": {
            "text/plain": [
              "  Property_ID  Habitability_score\n",
              "0      0x6e93           27.971429\n",
              "1      0x8787           81.235439\n",
              "2      0x6c17           67.130820\n",
              "3      0x9dbd           71.379565\n",
              "4      0xbfde           74.302593"
            ],
            "text/html": [
              "\n",
              "  <div id=\"df-11cb5f98-3505-481a-b646-966716941d1f\">\n",
              "    <div class=\"colab-df-container\">\n",
              "      <div>\n",
              "<style scoped>\n",
              "    .dataframe tbody tr th:only-of-type {\n",
              "        vertical-align: middle;\n",
              "    }\n",
              "\n",
              "    .dataframe tbody tr th {\n",
              "        vertical-align: top;\n",
              "    }\n",
              "\n",
              "    .dataframe thead th {\n",
              "        text-align: right;\n",
              "    }\n",
              "</style>\n",
              "<table border=\"1\" class=\"dataframe\">\n",
              "  <thead>\n",
              "    <tr style=\"text-align: right;\">\n",
              "      <th></th>\n",
              "      <th>Property_ID</th>\n",
              "      <th>Habitability_score</th>\n",
              "    </tr>\n",
              "  </thead>\n",
              "  <tbody>\n",
              "    <tr>\n",
              "      <th>0</th>\n",
              "      <td>0x6e93</td>\n",
              "      <td>27.971429</td>\n",
              "    </tr>\n",
              "    <tr>\n",
              "      <th>1</th>\n",
              "      <td>0x8787</td>\n",
              "      <td>81.235439</td>\n",
              "    </tr>\n",
              "    <tr>\n",
              "      <th>2</th>\n",
              "      <td>0x6c17</td>\n",
              "      <td>67.130820</td>\n",
              "    </tr>\n",
              "    <tr>\n",
              "      <th>3</th>\n",
              "      <td>0x9dbd</td>\n",
              "      <td>71.379565</td>\n",
              "    </tr>\n",
              "    <tr>\n",
              "      <th>4</th>\n",
              "      <td>0xbfde</td>\n",
              "      <td>74.302593</td>\n",
              "    </tr>\n",
              "  </tbody>\n",
              "</table>\n",
              "</div>\n",
              "      <button class=\"colab-df-convert\" onclick=\"convertToInteractive('df-11cb5f98-3505-481a-b646-966716941d1f')\"\n",
              "              title=\"Convert this dataframe to an interactive table.\"\n",
              "              style=\"display:none;\">\n",
              "        \n",
              "  <svg xmlns=\"http://www.w3.org/2000/svg\" height=\"24px\"viewBox=\"0 0 24 24\"\n",
              "       width=\"24px\">\n",
              "    <path d=\"M0 0h24v24H0V0z\" fill=\"none\"/>\n",
              "    <path d=\"M18.56 5.44l.94 2.06.94-2.06 2.06-.94-2.06-.94-.94-2.06-.94 2.06-2.06.94zm-11 1L8.5 8.5l.94-2.06 2.06-.94-2.06-.94L8.5 2.5l-.94 2.06-2.06.94zm10 10l.94 2.06.94-2.06 2.06-.94-2.06-.94-.94-2.06-.94 2.06-2.06.94z\"/><path d=\"M17.41 7.96l-1.37-1.37c-.4-.4-.92-.59-1.43-.59-.52 0-1.04.2-1.43.59L10.3 9.45l-7.72 7.72c-.78.78-.78 2.05 0 2.83L4 21.41c.39.39.9.59 1.41.59.51 0 1.02-.2 1.41-.59l7.78-7.78 2.81-2.81c.8-.78.8-2.07 0-2.86zM5.41 20L4 18.59l7.72-7.72 1.47 1.35L5.41 20z\"/>\n",
              "  </svg>\n",
              "      </button>\n",
              "      \n",
              "  <style>\n",
              "    .colab-df-container {\n",
              "      display:flex;\n",
              "      flex-wrap:wrap;\n",
              "      gap: 12px;\n",
              "    }\n",
              "\n",
              "    .colab-df-convert {\n",
              "      background-color: #E8F0FE;\n",
              "      border: none;\n",
              "      border-radius: 50%;\n",
              "      cursor: pointer;\n",
              "      display: none;\n",
              "      fill: #1967D2;\n",
              "      height: 32px;\n",
              "      padding: 0 0 0 0;\n",
              "      width: 32px;\n",
              "    }\n",
              "\n",
              "    .colab-df-convert:hover {\n",
              "      background-color: #E2EBFA;\n",
              "      box-shadow: 0px 1px 2px rgba(60, 64, 67, 0.3), 0px 1px 3px 1px rgba(60, 64, 67, 0.15);\n",
              "      fill: #174EA6;\n",
              "    }\n",
              "\n",
              "    [theme=dark] .colab-df-convert {\n",
              "      background-color: #3B4455;\n",
              "      fill: #D2E3FC;\n",
              "    }\n",
              "\n",
              "    [theme=dark] .colab-df-convert:hover {\n",
              "      background-color: #434B5C;\n",
              "      box-shadow: 0px 1px 3px 1px rgba(0, 0, 0, 0.15);\n",
              "      filter: drop-shadow(0px 1px 2px rgba(0, 0, 0, 0.3));\n",
              "      fill: #FFFFFF;\n",
              "    }\n",
              "  </style>\n",
              "\n",
              "      <script>\n",
              "        const buttonEl =\n",
              "          document.querySelector('#df-11cb5f98-3505-481a-b646-966716941d1f button.colab-df-convert');\n",
              "        buttonEl.style.display =\n",
              "          google.colab.kernel.accessAllowed ? 'block' : 'none';\n",
              "\n",
              "        async function convertToInteractive(key) {\n",
              "          const element = document.querySelector('#df-11cb5f98-3505-481a-b646-966716941d1f');\n",
              "          const dataTable =\n",
              "            await google.colab.kernel.invokeFunction('convertToInteractive',\n",
              "                                                     [key], {});\n",
              "          if (!dataTable) return;\n",
              "\n",
              "          const docLinkHtml = 'Like what you see? Visit the ' +\n",
              "            '<a target=\"_blank\" href=https://colab.research.google.com/notebooks/data_table.ipynb>data table notebook</a>'\n",
              "            + ' to learn more about interactive tables.';\n",
              "          element.innerHTML = '';\n",
              "          dataTable['output_type'] = 'display_data';\n",
              "          await google.colab.output.renderOutput(dataTable, element);\n",
              "          const docLink = document.createElement('div');\n",
              "          docLink.innerHTML = docLinkHtml;\n",
              "          element.appendChild(docLink);\n",
              "        }\n",
              "      </script>\n",
              "    </div>\n",
              "  </div>\n",
              "  "
            ]
          },
          "metadata": {},
          "execution_count": 436
        }
      ]
    },
    {
      "cell_type": "code",
      "source": [
        "submission.to_csv(\"prediction2.csv\", index = False)"
      ],
      "metadata": {
        "id": "d6oEIHSVjlVh"
      },
      "execution_count": null,
      "outputs": []
    },
    {
      "cell_type": "code",
      "source": [
        "answerdata = pd.read_csv(\"prediction2.csv\")\n",
        "print(answerdata.shape)"
      ],
      "metadata": {
        "colab": {
          "base_uri": "https://localhost:8080/"
        },
        "id": "CrWr2JKDUQ-2",
        "outputId": "d7808bcd-402a-4cca-cda0-19f98e0b7272"
      },
      "execution_count": null,
      "outputs": [
        {
          "output_type": "stream",
          "name": "stdout",
          "text": [
            "(10500, 2)\n"
          ]
        }
      ]
    },
    {
      "cell_type": "code",
      "source": [
        "answerdata.columns"
      ],
      "metadata": {
        "colab": {
          "base_uri": "https://localhost:8080/"
        },
        "id": "KyY39JDwUeNc",
        "outputId": "aef7f935-1816-4edb-cab3-dfeaef6a17d6"
      },
      "execution_count": null,
      "outputs": [
        {
          "output_type": "execute_result",
          "data": {
            "text/plain": [
              "Index(['Property_ID', 'Habitability_score'], dtype='object')"
            ]
          },
          "metadata": {},
          "execution_count": 439
        }
      ]
    },
    {
      "cell_type": "code",
      "source": [
        "solution= answerdata.head()\n",
        "solution.to_csv(\"finalsolution.csv\")\n"
      ],
      "metadata": {
        "id": "1bVQvPeMUkAW"
      },
      "execution_count": null,
      "outputs": []
    },
    {
      "cell_type": "code",
      "source": [
        "\n",
        "\n",
        "\n",
        "\n",
        "pdata.to_csv(\"finalsolution.csv\",index=False)\n",
        "pdata.shape"
      ],
      "metadata": {
        "colab": {
          "base_uri": "https://localhost:8080/"
        },
        "id": "IdWg6FMYlG7R",
        "outputId": "a9b250c3-819f-45f3-c6ff-e61ba642e8bb"
      },
      "execution_count": null,
      "outputs": [
        {
          "output_type": "execute_result",
          "data": {
            "text/plain": [
              "(5, 2)"
            ]
          },
          "metadata": {},
          "execution_count": 441
        }
      ]
    },
    {
      "cell_type": "code",
      "source": [
        "y_test.head(5)"
      ],
      "metadata": {
        "colab": {
          "base_uri": "https://localhost:8080/"
        },
        "id": "3kfDQ9kuXoIp",
        "outputId": "4dffb4a4-5a7c-49fe-fa4b-acb114c9b5b8"
      },
      "execution_count": null,
      "outputs": [
        {
          "output_type": "execute_result",
          "data": {
            "text/plain": [
              "33263    59.74\n",
              "27523    59.41\n",
              "9287     87.22\n",
              "14862    70.92\n",
              "6348     58.37\n",
              "Name: Habitability_score, dtype: float64"
            ]
          },
          "metadata": {},
          "execution_count": 442
        }
      ]
    }
  ]
}